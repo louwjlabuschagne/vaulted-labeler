{
 "cells": [
  {
   "cell_type": "code",
   "execution_count": null,
   "metadata": {},
   "outputs": [],
   "source": [
    "import qrcode\n",
    "import base64\n",
    "from io import BytesIO\n",
    "from PIL import Image\n",
    "import pandas as pd\n",
    "import numpy as np\n",
    "import copy \n",
    "import PIL\n",
    "import tkinter\n",
    "from qrcode.image.styledpil import StyledPilImage\n",
    "from qrcode.image.styles.colormasks import RadialGradiantColorMask\n",
    "import copy\n",
    "from pathlib import Path\n",
    "from time import time"
   ]
  },
  {
   "cell_type": "code",
   "execution_count": null,
   "metadata": {},
   "outputs": [],
   "source": [
    "def generateQRSRC(sku):\n",
    "    qr = qrcode.QRCode(\n",
    "    version=1,\n",
    "    error_correction=qrcode.constants.ERROR_CORRECT_L,\n",
    "    box_size=3,\n",
    "    border=0,\n",
    "    )\n",
    "    qr.add_data(sku)\n",
    "    qr.make(fit=True)\n",
    "\n",
    "    img = qr.make_image(fill_color=\"black\", back_color=\"white\") #of (image_factory=StyledPilImage, color_mask=RadialGradiantColorMask())\n",
    "    im_file = BytesIO()\n",
    "    img.save(im_file, format=\"JPEG\")\n",
    "    im_bytes = im_file.getvalue()\n",
    "    im_b64 = base64.b64encode(im_bytes)\n",
    "\n",
    "    img_source = f'data:image/jpeg;base64,{im_b64.decode(\"utf-8\")}'\n",
    "    return img_source"
   ]
  },
  {
   "cell_type": "code",
   "execution_count": null,
   "metadata": {},
   "outputs": [],
   "source": [
    "generateQRSRC('asdf')"
   ]
  },
  {
   "cell_type": "code",
   "execution_count": null,
   "metadata": {},
   "outputs": [],
   "source": [
    "df = pd.read_csv('./Vaulted Inventory & Consignment Management Verson.csv')\n",
    "df.columns = [c.lower() for c in df.columns]\n",
    "df['vintage'] = df['vintage'].astype(int).astype(str)"
   ]
  },
  {
   "cell_type": "code",
   "execution_count": null,
   "metadata": {},
   "outputs": [],
   "source": [
    "df['url'] = df['sku']\n",
    "df['tokenId'] = df['sku'].apply(lambda x: x.split('/')[-1])\n",
    "df['sku'] = df['sku'].apply(lambda x: x.split('/')[-2])\n"
   ]
  },
  {
   "cell_type": "code",
   "execution_count": null,
   "metadata": {},
   "outputs": [],
   "source": [
    "df['url'].values"
   ]
  },
  {
   "cell_type": "code",
   "execution_count": null,
   "metadata": {},
   "outputs": [],
   "source": [
    "with open('./template.html', 'r') as f:\n",
    "    lines = f.readlines()\n",
    "html = ''.join(lines)"
   ]
  },
  {
   "cell_type": "code",
   "execution_count": null,
   "metadata": {},
   "outputs": [],
   "source": [
    "template = \"\"\"<h4>COMPANY_NAME (SKU_CODE/TOKEN_ID)</h4>\n",
    "<img src=\"SOURCE_BASE64\" style=\"float:right\">\n",
    "<h5>VAULT_NAME</h5>\n",
    "<h5>PRODUCER</h5>\n",
    "<h5>RELEASE, VINTAGE</h5>\n",
    "\n",
    "<p style=\"float:right\">Powered by <img src=\"https://www.google.com/s2/favicons?domain=fanfire.ai\" style=”width:40px;height:20px;\"> Fanfire</p>\"\"\""
   ]
  },
  {
   "cell_type": "code",
   "execution_count": null,
   "metadata": {},
   "outputs": [],
   "source": [
    "items = []\n",
    "for i, row in df.iterrows():\n",
    "    item = copy\\\n",
    "    .deepcopy(template)\\\n",
    "    .replace(\"COMPANY_NAME\", row['company'])\\\n",
    "    .replace(\"VAULT_NAME\", row['vault'])\\\n",
    "    .replace(\"PRODUCER\", row['producer'])\\\n",
    "    .replace(\"RELEASE\", row['release'])\\\n",
    "    .replace(\"VINTAGE\", row['vintage'])\\\n",
    "    .replace(\"SKU_CODE\", row['sku'])\\\n",
    "    .replace(\"TOKEN_ID\", row['tokenId'])\\\n",
    "    .replace(\"SOURCE_BASE64\", generateQRSRC(row['sku']))\n",
    "    \n",
    "    items.append(item)"
   ]
  },
  {
   "cell_type": "code",
   "execution_count": null,
   "metadata": {},
   "outputs": [],
   "source": [
    "run_dir = Path(str(time()))\n",
    "run_dir.mkdir()\n",
    "page_nr = 0 \n",
    "page = copy.deepcopy(html)\n",
    "for item_nr, item in enumerate(items):\n",
    "    print(item_nr, page_nr) \n",
    "    page = page.replace(f'ITEM_{(item_nr%10)+1}_HTML', item)\n",
    "    if (item_nr + 1) % 10 == 0:\n",
    "        with open(run_dir/f'page-{page_nr}.html', 'w') as f:\n",
    "            f.write(page)\n",
    "        page_nr = page_nr + 1\n",
    "        page = copy.deepcopy(html)\n",
    "with open(run_dir/f'page-{page_nr}.html', 'w') as f:\n",
    "    f.write(page)"
   ]
  },
  {
   "cell_type": "code",
   "execution_count": null,
   "metadata": {},
   "outputs": [],
   "source": []
  }
 ],
 "metadata": {
  "kernelspec": {
   "display_name": "Python 3.10.5 64-bit",
   "language": "python",
   "name": "python3"
  },
  "language_info": {
   "codemirror_mode": {
    "name": "ipython",
    "version": 3
   },
   "file_extension": ".py",
   "mimetype": "text/x-python",
   "name": "python",
   "nbconvert_exporter": "python",
   "pygments_lexer": "ipython3",
   "version": "3.9.13"
  },
  "vscode": {
   "interpreter": {
    "hash": "f8acbac0299151200273dc6296e6bc2aac026cbc81ac7f20a81f3d3f63bedd6e"
   }
  }
 },
 "nbformat": 4,
 "nbformat_minor": 2
}
